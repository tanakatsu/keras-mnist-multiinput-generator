{
 "cells": [
  {
   "cell_type": "code",
   "execution_count": 1,
   "metadata": {},
   "outputs": [],
   "source": [
    "# Original\n",
    "#     https://github.com/keras-team/keras/blob/master/examples/mnist_mlp.py"
   ]
  },
  {
   "cell_type": "code",
   "execution_count": 2,
   "metadata": {},
   "outputs": [
    {
     "name": "stderr",
     "output_type": "stream",
     "text": [
      "Using TensorFlow backend.\n"
     ]
    }
   ],
   "source": [
    "from __future__ import print_function\n",
    "\n",
    "import keras\n",
    "from keras.datasets import mnist\n",
    "from keras.models import Model\n",
    "from keras.layers import Input, Dense, Dropout, concatenate\n",
    "from keras.optimizers import RMSprop\n",
    "\n",
    "import numpy as np\n",
    "import matplotlib.pyplot as plt\n",
    "import matplotlib.cm as cm"
   ]
  },
  {
   "cell_type": "code",
   "execution_count": 3,
   "metadata": {},
   "outputs": [],
   "source": [
    "batch_size = 128\n",
    "num_classes = 10\n",
    "# epochs = 20\n",
    "epochs = 5"
   ]
  },
  {
   "cell_type": "code",
   "execution_count": 4,
   "metadata": {},
   "outputs": [
    {
     "name": "stdout",
     "output_type": "stream",
     "text": [
      "60000 train samples\n",
      "10000 test samples\n"
     ]
    }
   ],
   "source": [
    "# the data, split between train and test sets\n",
    "(x_train, y_train), (x_test, y_test) = mnist.load_data()\n",
    "\n",
    "x_train = x_train.reshape(60000, 784)\n",
    "x_test = x_test.reshape(10000, 784)\n",
    "x_train = x_train.astype('float32')\n",
    "x_test = x_test.astype('float32')\n",
    "x_train /= 255\n",
    "x_test /= 255\n",
    "print(x_train.shape[0], 'train samples')\n",
    "print(x_test.shape[0], 'test samples')"
   ]
  },
  {
   "cell_type": "code",
   "execution_count": 5,
   "metadata": {},
   "outputs": [],
   "source": [
    "x1_train = np.copy(x_train)\n",
    "x2_train = np.copy(x_train)\n",
    "x1_test = np.copy(x_test)\n",
    "x2_test = np.copy(x_test)"
   ]
  },
  {
   "cell_type": "code",
   "execution_count": 6,
   "metadata": {},
   "outputs": [],
   "source": [
    "# make 2 images from 1 image\n",
    "x1_train[:, 392:] = 0.0\n",
    "x2_train[:, :392] = 0.0\n",
    "\n",
    "x1_test[:, 392:] = 0.0\n",
    "x2_test[:, :392] = 0.0"
   ]
  },
  {
   "cell_type": "code",
   "execution_count": 7,
   "metadata": {},
   "outputs": [
    {
     "data": {
      "text/plain": [
       "<matplotlib.image.AxesImage at 0x1520d4978>"
      ]
     },
     "execution_count": 7,
     "metadata": {},
     "output_type": "execute_result"
    },
    {
     "data": {
      "image/png": "[encoded data removed]",
      "text/plain": [
       "<Figure size 432x288 with 3 Axes>"
      ]
     },
     "metadata": {},
     "output_type": "display_data"
    }
   ],
   "source": [
    "plt.subplot(1, 3, 1)\n",
    "plt.title('original')\n",
    "plt.imshow(x_train[0].reshape(28, 28), cmap=cm.gray)\n",
    "\n",
    "plt.subplot(1, 3, 2)\n",
    "plt.title('upper half (x1)')\n",
    "plt.imshow(x1_train[0].reshape(28, 28), cmap=cm.gray)\n",
    "\n",
    "plt.subplot(1, 3, 3)\n",
    "plt.title('bottom half (x2)')\n",
    "plt.imshow(x2_train[0].reshape(28, 28), cmap=cm.gray)"
   ]
  },
  {
   "cell_type": "code",
   "execution_count": 8,
   "metadata": {},
   "outputs": [],
   "source": [
    "# Custom data generator\n",
    "class MultiInputDataGenerator(object):\n",
    "    def __init__(self, x1, x2, y, num_classes):\n",
    "        self.x1 = x1\n",
    "        self.x2 = x2\n",
    "        self.y = y\n",
    "        self.num_classes = num_classes\n",
    "        self.length = len(self.x1)\n",
    "        self.reset()\n",
    "        assert len(self.x1) == len(self.x2) and len(self.x1) == len(self.y)\n",
    "        \n",
    "    def reset(self):\n",
    "        self.inputs1 = []\n",
    "        self.inputs2 = []\n",
    "        self.labels = []\n",
    "    \n",
    "    def flow(self, batch_size=32, shuffle=True):\n",
    "        if shuffle:\n",
    "            indices = np.random.permutation(self.length)\n",
    "            x1 = np.copy(self.x1)[indices]\n",
    "            x2 = np.copy(self.x2)[indices]\n",
    "            y = np.copy(self.y)[indices]\n",
    "        else:\n",
    "            x1 = self.x1\n",
    "            x2 = self.x2\n",
    "            y = self.y\n",
    "            \n",
    "        # No need to do this ?\n",
    "        batch_num = self.length // batch_size\n",
    "        x1 = x1[:batch_size * batch_num]\n",
    "        x2 = x2[:batch_size * batch_num]\n",
    "        y = y[:batch_size * batch_num]\n",
    "        \n",
    "        pos = 0\n",
    "        while True:\n",
    "            if pos == batch_size * batch_num:\n",
    "                pos = 0\n",
    "                \n",
    "            self.inputs1.append(x1[pos])\n",
    "            self.inputs2.append(x2[pos])\n",
    "            self.labels.append(y[pos])\n",
    "            pos = pos + 1\n",
    "               \n",
    "            if len(self.inputs1) == batch_size:\n",
    "                inp1 = np.array(self.inputs1)\n",
    "                inp2 = np.array(self.inputs2)\n",
    "                labels = keras.utils.to_categorical(np.array(self.labels), self.num_classes)\n",
    "                self.reset()\n",
    "                yield [inp1, inp2], labels"
   ]
  },
  {
   "cell_type": "code",
   "execution_count": 9,
   "metadata": {},
   "outputs": [],
   "source": [
    "def disp_images(images):\n",
    "    for i, image in enumerate(images):\n",
    "        plt.subplot(1, len(images), i + 1)\n",
    "        plt.imshow(image.reshape(28, 28), cmap=cm.gray)\n",
    "        plt.xticks([])\n",
    "        plt.yticks([])\n",
    "    plt.show()"
   ]
  },
  {
   "cell_type": "code",
   "execution_count": 10,
   "metadata": {},
   "outputs": [
    {
     "data": {
      "image/png": "[encoded data removed]",
      "text/plain": [
       "<Figure size 432x288 with 8 Axes>"
      ]
     },
     "metadata": {},
     "output_type": "display_data"
    },
    {
     "data": {
      "image/png": "[encoded data removed]",
      "text/plain": [
       "<Figure size 432x288 with 8 Axes>"
      ]
     },
     "metadata": {},
     "output_type": "display_data"
    },
    {
     "data": {
      "image/png": "[encoded data removed]",
      "text/plain": [
       "<Figure size 432x288 with 8 Axes>"
      ]
     },
     "metadata": {},
     "output_type": "display_data"
    },
    {
     "data": {
      "image/png": "[encoded data removed]",
      "text/plain": [
       "<Figure size 432x288 with 8 Axes>"
      ]
     },
     "metadata": {},
     "output_type": "display_data"
    }
   ],
   "source": [
    "# Test generator \n",
    "gen_train = MultiInputDataGenerator(x1_train, x2_train, y_train, num_classes)\n",
    "\n",
    "inputs, labels = gen_train.flow(batch_size=32).__next__() # In python2, use next() instead of __next__()\n",
    "disp_images(inputs[0][:8])\n",
    "disp_images(inputs[1][:8])\n",
    "\n",
    "inputs, labels = gen_train.flow(batch_size=32).__next__() \n",
    "disp_images(inputs[0][:8])\n",
    "disp_images(inputs[1][:8])"
   ]
  },
  {
   "cell_type": "code",
   "execution_count": 11,
   "metadata": {},
   "outputs": [
    {
     "data": {
      "image/png": "[encoded data removed]",
      "text/plain": [
       "<Figure size 432x288 with 8 Axes>"
      ]
     },
     "metadata": {},
     "output_type": "display_data"
    },
    {
     "data": {
      "image/png": "[encoded data removed]",
      "text/plain": [
       "<Figure size 432x288 with 8 Axes>"
      ]
     },
     "metadata": {},
     "output_type": "display_data"
    },
    {
     "data": {
      "image/png": "[encoded data removed]",
      "text/plain": [
       "<Figure size 432x288 with 8 Axes>"
      ]
     },
     "metadata": {},
     "output_type": "display_data"
    },
    {
     "data": {
      "image/png": "[encoded data removed]",
      "text/plain": [
       "<Figure size 432x288 with 8 Axes>"
      ]
     },
     "metadata": {},
     "output_type": "display_data"
    }
   ],
   "source": [
    "gen_test = MultiInputDataGenerator(x1_test, x2_test, y_test, num_classes)\n",
    "\n",
    "inputs, labels = gen_test.flow(batch_size=32, shuffle=False).__next__() # In python2, use next() instead of __next__()\n",
    "disp_images(inputs[0][:8])\n",
    "disp_images(inputs[1][:8])\n",
    "\n",
    "inputs, labels = gen_test.flow(batch_size=32, shuffle=False).__next__()\n",
    "disp_images(inputs[0][:8])\n",
    "disp_images(inputs[1][:8])"
   ]
  },
  {
   "cell_type": "code",
   "execution_count": 12,
   "metadata": {},
   "outputs": [
    {
     "name": "stdout",
     "output_type": "stream",
     "text": [
      "__________________________________________________________________________________________________\n",
      "Layer (type)                    Output Shape         Param #     Connected to                     \n",
      "==================================================================================================\n",
      "input_1 (InputLayer)            (None, 784)          0                                            \n",
      "__________________________________________________________________________________________________\n",
      "input_2 (InputLayer)            (None, 784)          0                                            \n",
      "__________________________________________________________________________________________________\n",
      "dense_1 (Dense)                 (None, 512)          401920      input_1[0][0]                    \n",
      "__________________________________________________________________________________________________\n",
      "dense_3 (Dense)                 (None, 512)          401920      input_2[0][0]                    \n",
      "__________________________________________________________________________________________________\n",
      "dropout_1 (Dropout)             (None, 512)          0           dense_1[0][0]                    \n",
      "__________________________________________________________________________________________________\n",
      "dropout_3 (Dropout)             (None, 512)          0           dense_3[0][0]                    \n",
      "__________________________________________________________________________________________________\n",
      "dense_2 (Dense)                 (None, 512)          262656      dropout_1[0][0]                  \n",
      "__________________________________________________________________________________________________\n",
      "dense_4 (Dense)                 (None, 512)          262656      dropout_3[0][0]                  \n",
      "__________________________________________________________________________________________________\n",
      "dropout_2 (Dropout)             (None, 512)          0           dense_2[0][0]                    \n",
      "__________________________________________________________________________________________________\n",
      "dropout_4 (Dropout)             (None, 512)          0           dense_4[0][0]                    \n",
      "__________________________________________________________________________________________________\n",
      "concatenate_1 (Concatenate)     (None, 1024)         0           dropout_2[0][0]                  \n",
      "                                                                 dropout_4[0][0]                  \n",
      "__________________________________________________________________________________________________\n",
      "dense_5 (Dense)                 (None, 256)          262400      concatenate_1[0][0]              \n",
      "__________________________________________________________________________________________________\n",
      "dropout_5 (Dropout)             (None, 256)          0           dense_5[0][0]                    \n",
      "__________________________________________________________________________________________________\n",
      "dense_6 (Dense)                 (None, 10)           2570        dropout_5[0][0]                  \n",
      "==================================================================================================\n",
      "Total params: 1,594,122\n",
      "Trainable params: 1,594,122\n",
      "Non-trainable params: 0\n",
      "__________________________________________________________________________________________________\n"
     ]
    }
   ],
   "source": [
    "# Multi input model\n",
    "inp_x1 = Input(shape=(784,))\n",
    "inp_x2 = Input(shape=(784,))\n",
    "\n",
    "x1 = Dense(512, activation='relu')(inp_x1)\n",
    "x1 = Dropout(0.2)(x1)\n",
    "x1 = Dense(512, activation='relu')(x1)\n",
    "x1 = Dropout(0.2)(x1)\n",
    "\n",
    "x2 = Dense(512, activation='relu')(inp_x2)\n",
    "x2 = Dropout(0.2)(x2)\n",
    "x2 = Dense(512, activation='relu')(x2)\n",
    "x2 = Dropout(0.2)(x2)\n",
    "\n",
    "merged = concatenate([x1, x2])\n",
    "merged = Dense(256, activation='relu')(merged)\n",
    "merged = Dropout(0.2)(merged)\n",
    "out = Dense(num_classes, activation='softmax')(merged)\n",
    "\n",
    "model = Model([inp_x1, inp_x2], out)\n",
    "model.summary()"
   ]
  },
  {
   "cell_type": "code",
   "execution_count": 13,
   "metadata": {},
   "outputs": [],
   "source": [
    "model.compile(loss='categorical_crossentropy',\n",
    "              optimizer=RMSprop(),\n",
    "              metrics=['accuracy'])"
   ]
  },
  {
   "cell_type": "code",
   "execution_count": 14,
   "metadata": {},
   "outputs": [
    {
     "name": "stdout",
     "output_type": "stream",
     "text": [
      "Epoch 1/5\n",
      "468/468 [==============================] - 17s 36ms/step - loss: 0.2400 - acc: 0.9250 - val_loss: 0.1283 - val_acc: 0.9597\n",
      "Epoch 2/5\n",
      "468/468 [==============================] - 17s 37ms/step - loss: 0.0961 - acc: 0.9716 - val_loss: 0.0697 - val_acc: 0.9779\n",
      "Epoch 3/5\n",
      "468/468 [==============================] - 17s 36ms/step - loss: 0.0723 - acc: 0.9789 - val_loss: 0.0762 - val_acc: 0.9790\n",
      "Epoch 4/5\n",
      "468/468 [==============================] - 16s 35ms/step - loss: 0.0615 - acc: 0.9826 - val_loss: 0.0699 - val_acc: 0.9810\n",
      "Epoch 5/5\n",
      "468/468 [==============================] - 16s 35ms/step - loss: 0.0530 - acc: 0.9855 - val_loss: 0.0707 - val_acc: 0.9837\n"
     ]
    },
    {
     "data": {
      "text/plain": [
       "<keras.callbacks.History at 0x1529cc630>"
      ]
     },
     "execution_count": 14,
     "metadata": {},
     "output_type": "execute_result"
    }
   ],
   "source": [
    "gen_train = MultiInputDataGenerator(x1_train, x2_train, y_train, num_classes)\n",
    "gen_test = MultiInputDataGenerator(x1_test, x2_test, y_test, num_classes)\n",
    "\n",
    "total_train_size = len(x1_train)\n",
    "total_test_size = len(x1_test)\n",
    "\n",
    "model.fit_generator(gen_train.flow(batch_size=batch_size), steps_per_epoch=total_train_size // batch_size,\n",
    "                    validation_data=gen_test.flow(batch_size=batch_size, shuffle=False), validation_steps=total_test_size // batch_size,\n",
    "                    epochs=epochs, verbose=1)"
   ]
  },
  {
   "cell_type": "code",
   "execution_count": 15,
   "metadata": {},
   "outputs": [
    {
     "name": "stdout",
     "output_type": "stream",
     "text": [
      "Test loss: 0.0707444436371495\n",
      "Test accuracy: 0.9836738782051282\n"
     ]
    }
   ],
   "source": [
    "score = model.evaluate_generator(gen_test.flow(batch_size=batch_size, shuffle=False), steps=total_test_size // batch_size)\n",
    "print('Test loss:', score[0])\n",
    "print('Test accuracy:', score[1])"
   ]
  }
 ],
 "metadata": {
  "kernelspec": {
   "display_name": "Python 3",
   "language": "python",
   "name": "python3"
  },
  "language_info": {
   "codemirror_mode": {
    "name": "ipython",
    "version": 3
   },
   "file_extension": ".py",
   "mimetype": "text/x-python",
   "name": "python",
   "nbconvert_exporter": "python",
   "pygments_lexer": "ipython3",
   "version": "3.6.4"
  }
 },
 "nbformat": 4,
 "nbformat_minor": 2
}
